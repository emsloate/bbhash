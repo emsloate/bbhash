{
 "cells": [
  {
   "cell_type": "code",
   "execution_count": 7,
   "metadata": {},
   "outputs": [],
   "source": [
    "from bitarray import bitarray\n",
    "import xxhash\n",
    "from succinct.rle_bit_array import RunLengthEncodedBitArray as RLBA\n",
    "import numpy as np\n",
    "import math"
   ]
  },
  {
   "cell_type": "code",
   "execution_count": 93,
   "metadata": {},
   "outputs": [],
   "source": [
    "class BBhash:\n",
    "    \n",
    "    def __init__(self,keys,num_keys,gamma):\n",
    "        '''\n",
    "        inputs: \n",
    "        keys - a numpy.chararray, list of keys for our table\n",
    "        num_keys - the length of keys\n",
    "        gamma - tuning parameter that effects size of bitarrays\n",
    "        \n",
    "        output: a BBhash object, with 3 bitarrays & a hash table to store our keys\n",
    "        '''\n",
    "        self.seed_0 = 777\n",
    "        self.keys_0 = keys\n",
    "        self.num_keys_0 = num_keys\n",
    "        self.gamma = gamma\n",
    "        \n",
    "        #size of our first bitarray\n",
    "        self.arr_0_size = math.ceil(self.num_keys_0 * self.gamma)\n",
    "        #get array 0, \"rank\" of array 0, remaining keys, number of remaining keys\n",
    "        self.arr_0, self.rank_0, self.keys_1, self.num_keys_1 = self.arrayfill(self.keys_0,self.arr_0_size,self.seed_0)\n",
    "    \n",
    "        #repeat process two more times\n",
    "        self.seed_1 = 888\n",
    "        self.arr_1_size = math.ceil(self.num_keys_1 * self.gamma)\n",
    "        self.arr_1, self.rank_1, self.keys_2,self.num_keys_2 = self.arrayfill(self.keys_1,self.arr_1_size,self.seed_1)\n",
    "        \n",
    "        self.seed_2 = 999\n",
    "        self.arr_2_size = math.ceil(self.num_keys_2 * self.gamma)\n",
    "        self.arr_2, self.rank_2, self.last_keys,self.num_last_keys = self.arrayfill(self.keys_2,self.arr_2_size,self.seed_2)\n",
    "        \n",
    "        #all keys left will go into a \"hash table\"\n",
    "        self.ht = self.htfill(self.last_keys,self.num_last_keys,self.num_keys_0)\n",
    "    \n",
    "    def arrayfill(self,keys,size,seed):\n",
    "        '''\n",
    "        inputs:\n",
    "        keys - a numpy.ndarray of type object, list of keys for our table\n",
    "        size - desired size of the bitarrays\n",
    "        seed - seed for xxhash \n",
    "        \n",
    "        output:\n",
    "        a bitvector array that has been \"filled\", the remaining keys that have collisions, the remaining number of keys\n",
    "        '''\n",
    "        # arr, the bitarray that will be returned, values should be 1 iff a key has been mapped to that location \n",
    "        # with no collisions\n",
    "        arr = bitarray(size)\n",
    "        arr.setall(False)\n",
    "        #c - the bitarray which tells us if there is a collision at the same point in arr\n",
    "        c = bitarray(size)\n",
    "        c.setall(False)\n",
    "        \n",
    "        #number of keys that have a collision\n",
    "        keys_left = 0\n",
    "        #loop through keys, hashing to arr, then checking for collisions\n",
    "        for key in keys:\n",
    "            #position in arr\n",
    "            pos = xxhash.xxh64_intdigest(key, seed=seed) % size\n",
    "            #print(\"Position: \",pos)\n",
    "            #if c[pos] == 1, there is a collision at pos already\n",
    "            if c[pos] == 1:\n",
    "                #print(\"collision already\")\n",
    "                arr[pos] = 0\n",
    "                keys_left += 1\n",
    "            #otherwise, if arr[pos] = 0 & c[pos] = 0, there has not been a key mapped here yet\n",
    "            elif arr[pos] == 0 and c[pos] == 0:\n",
    "                #print(\"free spot\")\n",
    "                arr[pos] = 1\n",
    "            #there is already a key mapped here, now we have a collision\n",
    "            elif arr[pos] == 1 and c[pos] == 0:\n",
    "                #print(\"new collision\")\n",
    "                arr[pos] = 0\n",
    "                c[pos] = 1\n",
    "                keys_left += 2\n",
    "        \n",
    "        #loop through keys again, storing keys that have a collision\n",
    "        remaining_keys = np.ndarray(keys_left,dtype=\"object\")\n",
    "        #index\n",
    "        rk_pos = 0\n",
    "        for key in keys:\n",
    "            pos = xxhash.xxh64_intdigest(key, seed=seed) % size\n",
    "            if arr[pos] == 0:\n",
    "                remaining_keys[rk_pos] = key\n",
    "                rk_pos += 1\n",
    "        \n",
    "        #should have correct number of remaining keys\n",
    "        assert(rk_pos == keys_left)\n",
    "        #number of keys in - number of keys left = number of keys without collisions\n",
    "        rank = len(keys) - keys_left\n",
    "        #print(remaining_keys)\n",
    "        return arr, rank, remaining_keys, keys_left\n",
    "    \n",
    "    \n",
    "    def htfill(self,last_keys,num_last_keys,num_keys):\n",
    "        '''\n",
    "        inputs:\n",
    "        last_keys - a numpy.ndarray of type object, the keys that still have collisions in arr_2\n",
    "        num_last_keys - how many keys are left\n",
    "        num_keys - the number of keys we started with when creating the class\n",
    "        \n",
    "        output:\n",
    "        ht - a dictionary that maps each key to a value in the range (num_keys − num_last_keys + 1, num_keys) inclusive\n",
    "        '''\n",
    "        ht = {}\n",
    "        count = 0\n",
    "        start = num_keys - num_last_keys + 1\n",
    "        #just loop through each key left and map it to a number in the range specified\n",
    "        #should loop through all of last_keys\n",
    "        for i in range(start,num_keys + 1):\n",
    "            ht[last_keys[count]] = i\n",
    "            count += 1\n",
    "        \n",
    "        assert(count == len(last_keys))\n",
    "        return ht"
   ]
  },
  {
   "cell_type": "code",
   "execution_count": 94,
   "metadata": {},
   "outputs": [
    {
     "name": "stdout",
     "output_type": "stream",
     "text": [
      "1\n",
      "2\n",
      "0\n",
      "{'abc': 4, 'a5c': 5}\n"
     ]
    },
    {
     "data": {
      "text/plain": [
       "<__main__.BBhash at 0x1138ce450>"
      ]
     },
     "execution_count": 94,
     "metadata": {},
     "output_type": "execute_result"
    }
   ],
   "source": [
    "keys = np.ndarray(5,dtype = \"object\")\n",
    "keys[0] = 'abc'\n",
    "keys[1] = 'a5c'\n",
    "keys[2] = 'acb'\n",
    "keys[3] = 'a142'\n",
    "keys[4] = 'a12'\n",
    "BBhash(keys,5,1)"
   ]
  },
  {
   "cell_type": "code",
   "execution_count": 88,
   "metadata": {},
   "outputs": [
    {
     "data": {
      "text/plain": [
       "5"
      ]
     },
     "execution_count": 88,
     "metadata": {},
     "output_type": "execute_result"
    }
   ],
   "source": [
    "len(keys)"
   ]
  },
  {
   "cell_type": "code",
   "execution_count": 39,
   "metadata": {},
   "outputs": [
    {
     "data": {
      "text/plain": [
       "13067679811253438005"
      ]
     },
     "execution_count": 39,
     "metadata": {},
     "output_type": "execute_result"
    }
   ],
   "source": [
    "xxhash.xxh64_intdigest('xxhash', seed=20141025)"
   ]
  },
  {
   "cell_type": "code",
   "execution_count": 36,
   "metadata": {},
   "outputs": [
    {
     "data": {
      "text/plain": [
       "13067679811253438005"
      ]
     },
     "execution_count": 36,
     "metadata": {},
     "output_type": "execute_result"
    }
   ],
   "source": [
    "xxhash.xxh64_intdigest('xxhash', seed=20141025)"
   ]
  },
  {
   "cell_type": "code",
   "execution_count": 37,
   "metadata": {},
   "outputs": [
    {
     "data": {
      "text/plain": [
       "13067679811253438005"
      ]
     },
     "execution_count": 37,
     "metadata": {},
     "output_type": "execute_result"
    }
   ],
   "source": [
    "xxhash.xxh64_intdigest('xxhash', seed=20141025)"
   ]
  },
  {
   "cell_type": "code",
   "execution_count": 21,
   "metadata": {},
   "outputs": [
    {
     "data": {
      "text/plain": [
       "False"
      ]
     },
     "execution_count": 21,
     "metadata": {},
     "output_type": "execute_result"
    }
   ],
   "source": [
    "x[4] == 1"
   ]
  },
  {
   "cell_type": "code",
   "execution_count": 22,
   "metadata": {},
   "outputs": [
    {
     "data": {
      "text/plain": [
       "bitarray('00000000000000000000')"
      ]
     },
     "execution_count": 22,
     "metadata": {},
     "output_type": "execute_result"
    }
   ],
   "source": [
    "x"
   ]
  },
  {
   "cell_type": "code",
   "execution_count": null,
   "metadata": {},
   "outputs": [],
   "source": []
  }
 ],
 "metadata": {
  "kernelspec": {
   "display_name": "Python [conda env:bbenv] *",
   "language": "python",
   "name": "conda-env-bbenv-py"
  },
  "language_info": {
   "codemirror_mode": {
    "name": "ipython",
    "version": 3
   },
   "file_extension": ".py",
   "mimetype": "text/x-python",
   "name": "python",
   "nbconvert_exporter": "python",
   "pygments_lexer": "ipython3",
   "version": "3.7.9"
  }
 },
 "nbformat": 4,
 "nbformat_minor": 4
}
